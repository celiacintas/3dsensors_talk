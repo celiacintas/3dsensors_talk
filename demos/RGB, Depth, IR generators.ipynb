{
 "metadata": {
  "name": ""
 },
 "nbformat": 3,
 "nbformat_minor": 0,
 "worksheets": [
  {
   "cells": [
    {
     "cell_type": "code",
     "collapsed": false,
     "input": [
      "import openni as opi\n",
      "import numpy as np\n",
      "import Image\n",
      "import matplotlib.pyplot as plt\n",
      "import pygame\n",
      "from pygame.locals import KEYDOWN, K_ESCAPE\n",
      "from pygame.color import THECOLORS"
     ],
     "language": "python",
     "metadata": {},
     "outputs": []
    },
    {
     "cell_type": "heading",
     "level": 4,
     "metadata": {},
     "source": [
      "RGB Camera"
     ]
    },
    {
     "cell_type": "code",
     "collapsed": false,
     "input": [
      "ctx = opi.Context()\n",
      "ctx.init()"
     ],
     "language": "python",
     "metadata": {},
     "outputs": []
    },
    {
     "cell_type": "code",
     "collapsed": false,
     "input": [
      "image_generator = opi.ImageGenerator()\n",
      "image_generator.create(ctx)"
     ],
     "language": "python",
     "metadata": {},
     "outputs": []
    },
    {
     "cell_type": "code",
     "collapsed": false,
     "input": [
      "ctx.start_generating_all()"
     ],
     "language": "python",
     "metadata": {},
     "outputs": []
    },
    {
     "cell_type": "code",
     "collapsed": false,
     "input": [
      "def capture_rgb():\n",
      "    rgb_frame = np.fromstring(image_generator.get_raw_image_map_bgr(),\n",
      "                              dtype=np.uint8).reshape(480, 640, 3)\n",
      "    \n",
      "    im = Image.fromarray(rgb_frame)\n",
      "    b, g, r = im.split()\n",
      "    im = Image.merge(\"RGB\", (r, g, b))\n",
      "    #return np.array(im)\n",
      "    return pygame.image.frombuffer(im.tostring(), im.size, 'RGB')"
     ],
     "language": "python",
     "metadata": {},
     "outputs": []
    },
    {
     "cell_type": "code",
     "collapsed": false,
     "input": [
      "plt.imshow(capture_rgb())"
     ],
     "language": "python",
     "metadata": {},
     "outputs": []
    },
    {
     "cell_type": "heading",
     "level": 5,
     "metadata": {},
     "source": [
      "Now a live cam .."
     ]
    },
    {
     "cell_type": "code",
     "collapsed": false,
     "input": [
      "#gentle remainder .. change the return value of capture_rgb\n",
      "pygame.init()\n",
      "running = True\n",
      "screen = pygame.display.set_mode((640, 480), pygame.HWSURFACE | pygame.DOUBLEBUF)\n",
      "pygame.display.set_caption('My First Camera')\n",
      "\n",
      "while running:\n",
      "    for event in pygame.event.get():\n",
      "        if event.type == KEYDOWN and event.key == K_ESCAPE: running = False\n",
      "    ctx.wait_any_update_all()\n",
      "    screen.blit(capture_rgb(), (0, 0))\n",
      "    pygame.display.update()\n",
      "    pygame.display.flip()\n",
      "    \n",
      "pygame.display.quit()\n",
      "pygame.quit()"
     ],
     "language": "python",
     "metadata": {},
     "outputs": []
    },
    {
     "cell_type": "code",
     "collapsed": false,
     "input": [
      "ctx.stop_generating_all()\n",
      "ctx.shutdown()"
     ],
     "language": "python",
     "metadata": {},
     "outputs": []
    },
    {
     "cell_type": "heading",
     "level": 4,
     "metadata": {},
     "source": [
      "Depth Camera"
     ]
    },
    {
     "cell_type": "code",
     "collapsed": false,
     "input": [
      "ctx = opi.Context()\n",
      "ctx.init()"
     ],
     "language": "python",
     "metadata": {},
     "outputs": []
    },
    {
     "cell_type": "code",
     "collapsed": false,
     "input": [
      "depth_generator = opi.DepthGenerator()\n",
      "depth_generator.create(ctx)\n",
      "depth_generator.set_resolution_preset(opi.RES_VGA)\n",
      "depth_generator.fps = 30"
     ],
     "language": "python",
     "metadata": {},
     "outputs": []
    },
    {
     "cell_type": "code",
     "collapsed": false,
     "input": [
      "ctx.start_generating_all()"
     ],
     "language": "python",
     "metadata": {},
     "outputs": []
    },
    {
     "cell_type": "code",
     "collapsed": false,
     "input": [
      "def capture_depth():\n",
      "    depth_map = np.asarray(depth_generator.get_tuple_depth_map())\n",
      "    depth_map = depth_map.reshape((480, 640))\n",
      "    \n",
      "    return depth_map"
     ],
     "language": "python",
     "metadata": {},
     "outputs": []
    },
    {
     "cell_type": "code",
     "collapsed": false,
     "input": [
      "plt.imshow(capture_depth())"
     ],
     "language": "python",
     "metadata": {},
     "outputs": []
    },
    {
     "cell_type": "code",
     "collapsed": false,
     "input": [
      "ctx.stop_generating_all()\n",
      "ctx.shutdown()"
     ],
     "language": "python",
     "metadata": {},
     "outputs": []
    },
    {
     "cell_type": "heading",
     "level": 4,
     "metadata": {},
     "source": [
      "IR Camera"
     ]
    },
    {
     "cell_type": "code",
     "collapsed": false,
     "input": [
      "ctx = opi.Context()\n",
      "ctx.init()"
     ],
     "language": "python",
     "metadata": {},
     "outputs": []
    },
    {
     "cell_type": "code",
     "collapsed": false,
     "input": [
      "ir_generator = opi.IRGenerator()\n",
      "ir_generator.create(ctx)\n",
      "ir_generator.set_resolution_preset(opi.RES_VGA)\n",
      "ir_generator.fps = 30"
     ],
     "language": "python",
     "metadata": {},
     "outputs": []
    },
    {
     "cell_type": "code",
     "collapsed": true,
     "input": [
      "ctx.start_generating_all()"
     ],
     "language": "python",
     "metadata": {},
     "outputs": []
    },
    {
     "cell_type": "code",
     "collapsed": false,
     "input": [
      "def capture_IR():\n",
      "    ir_map = np.asarray(ir_generator.get_tuple_ir_map())\n",
      "    ir_map = ir_map.reshape((480, 640))\n",
      "    \n",
      "    return ir_map"
     ],
     "language": "python",
     "metadata": {},
     "outputs": []
    },
    {
     "cell_type": "code",
     "collapsed": false,
     "input": [
      "plt.imshow(capture_IR())"
     ],
     "language": "python",
     "metadata": {},
     "outputs": []
    },
    {
     "cell_type": "code",
     "collapsed": false,
     "input": [
      "ctx.stop_generating_all()\n",
      "ctx.shutdown()"
     ],
     "language": "python",
     "metadata": {},
     "outputs": []
    },
    {
     "cell_type": "code",
     "collapsed": false,
     "input": [],
     "language": "python",
     "metadata": {},
     "outputs": []
    }
   ],
   "metadata": {}
  }
 ]
}