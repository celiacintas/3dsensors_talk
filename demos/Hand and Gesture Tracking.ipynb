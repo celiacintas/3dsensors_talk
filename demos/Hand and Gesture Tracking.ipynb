{
 "metadata": {
  "name": ""
 },
 "nbformat": 3,
 "nbformat_minor": 0,
 "worksheets": [
  {
   "cells": [
    {
     "cell_type": "code",
     "collapsed": false,
     "input": [
      "import openni as opi"
     ],
     "language": "python",
     "metadata": {},
     "outputs": [],
     "prompt_number": 14
    },
    {
     "cell_type": "heading",
     "level": 4,
     "metadata": {},
     "source": [
      "Create context and generators"
     ]
    },
    {
     "cell_type": "code",
     "collapsed": false,
     "input": [
      "ctx = opi.Context()\n",
      "ctx.init()"
     ],
     "language": "python",
     "metadata": {},
     "outputs": [],
     "prompt_number": 15
    },
    {
     "cell_type": "code",
     "collapsed": false,
     "input": [
      "depth_generator = opi.DepthGenerator()\n",
      "depth_generator.create(ctx)\n",
      "depth_generator.set_resolution_preset(opi.RES_VGA)\n",
      "depth_generator.fps = 30\n",
      "\n",
      "image_generator = opi.ImageGenerator()\n",
      "image_generator.create(ctx)\n",
      "\n",
      "gesture_generator = opi.GestureGenerator()\n",
      "gesture_generator.create(ctx)\n",
      "gesture_generator.add_gesture('Wave')\n",
      "\n",
      "hands_generator = opi.HandsGenerator()\n",
      "hands_generator.create(ctx)"
     ],
     "language": "python",
     "metadata": {},
     "outputs": [],
     "prompt_number": 16
    },
    {
     "cell_type": "heading",
     "level": 4,
     "metadata": {},
     "source": [
      "Write some callbalks ..."
     ]
    },
    {
     "cell_type": "code",
     "collapsed": false,
     "input": [
      "def gesture_detected(src, gesture, id, end_point):\n",
      "    print \"Detected gesture:\", gesture\n",
      "    hands_generator.start_tracking(end_point)\n",
      "\n",
      "def gesture_progress(src, gesture, point, progress): \n",
      "    print \"Dave is waving !!\"\n",
      "\n",
      "def destroy(src, id, time): \n",
      "    pass\n",
      "\n",
      "def create(src, id, pos, time): \n",
      "    pass\n",
      "\n",
      "def update(self, src, id, pos, time):\n",
      "    print \"Some cool stuff\""
     ],
     "language": "python",
     "metadata": {},
     "outputs": [],
     "prompt_number": 17
    },
    {
     "cell_type": "heading",
     "level": 4,
     "metadata": {},
     "source": [
      "And register them ..."
     ]
    },
    {
     "cell_type": "code",
     "collapsed": false,
     "input": [
      "gesture_generator.register_gesture_cb(gesture_detected, gesture_progress)\n",
      "hands_generator.register_hand_cb(create, update, destroy)\n"
     ],
     "language": "python",
     "metadata": {},
     "outputs": [
      {
       "metadata": {},
       "output_type": "pyout",
       "prompt_number": 18,
       "text": [
        "<void* at 0x7f7f38d5ccc0>"
       ]
      }
     ],
     "prompt_number": 18
    },
    {
     "cell_type": "markdown",
     "metadata": {},
     "source": [
      "Add funny example"
     ]
    },
    {
     "cell_type": "code",
     "collapsed": false,
     "input": [
      "ctx.stop_generating_all()\n",
      "ctx.shutdown()"
     ],
     "language": "python",
     "metadata": {},
     "outputs": [],
     "prompt_number": 19
    },
    {
     "cell_type": "code",
     "collapsed": false,
     "input": [],
     "language": "python",
     "metadata": {},
     "outputs": []
    }
   ],
   "metadata": {}
  }
 ]
}