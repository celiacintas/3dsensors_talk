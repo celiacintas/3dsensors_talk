{
 "metadata": {
  "name": ""
 },
 "nbformat": 3,
 "nbformat_minor": 0,
 "worksheets": [
  {
   "cells": [
    {
     "cell_type": "code",
     "collapsed": false,
     "input": [
      "import openni as opi\n",
      "import numpy as np\n",
      "import pygame\n",
      "from pygame.locals import KEYDOWN, K_ESCAPE\n",
      "from pygame.color import THECOLORS\n",
      "import Image\n",
      "from random import randrange"
     ],
     "language": "python",
     "metadata": {},
     "outputs": []
    },
    {
     "cell_type": "heading",
     "level": 4,
     "metadata": {},
     "source": [
      "Create context and generators"
     ]
    },
    {
     "cell_type": "code",
     "collapsed": false,
     "input": [
      "ctx = opi.Context()\n",
      "ctx.init()"
     ],
     "language": "python",
     "metadata": {},
     "outputs": []
    },
    {
     "cell_type": "code",
     "collapsed": false,
     "input": [
      "depth_generator = opi.DepthGenerator()\n",
      "depth_generator.create(ctx)\n",
      "depth_generator.set_resolution_preset(opi.RES_VGA)\n",
      "depth_generator.fps = 30\n",
      "\n",
      "image_generator = opi.ImageGenerator()\n",
      "image_generator.create(ctx)\n",
      "\n",
      "gesture_generator = opi.GestureGenerator()\n",
      "gesture_generator.create(ctx)\n",
      "gesture_generator.add_gesture('Wave')\n",
      "\n",
      "hands_generator = opi.HandsGenerator()\n",
      "hands_generator.create(ctx)"
     ],
     "language": "python",
     "metadata": {},
     "outputs": []
    },
    {
     "cell_type": "heading",
     "level": 4,
     "metadata": {},
     "source": [
      "Write some callbalks ..."
     ]
    },
    {
     "cell_type": "code",
     "collapsed": false,
     "input": [
      "def gesture_detected(src, gesture, id, end_point):\n",
      "    hands_generator.start_tracking(end_point)\n",
      "\n",
      "def gesture_progress(src, gesture, point, progress): \n",
      "    print \"Dave is waving !!\", src\n",
      "\n",
      "def destroy(src, id, time):\n",
      "    sprites.remove(hands[id])\n",
      "    del hands[id]\n",
      "\n",
      "def create(src, id, pos, time):\n",
      "    try:\n",
      "        hands[id] = Hand(file_names[randrange(len(file_names))])\n",
      "        sprites.add(hands[id])\n",
      "    except KeyError:\n",
      "        print \n",
      "    \n",
      "        \n",
      "def update(src, id, pos, time):\n",
      "    if pos:\n",
      "        tmp_pos = depth_generator.to_projective([pos])[0]\n",
      "        hands[id].rect.centerx, hands[id].rect.centery = tmp_pos[0], tmp_pos[1] "
     ],
     "language": "python",
     "metadata": {},
     "outputs": []
    },
    {
     "cell_type": "heading",
     "level": 4,
     "metadata": {},
     "source": [
      "And register them ..."
     ]
    },
    {
     "cell_type": "code",
     "collapsed": false,
     "input": [
      "gesture_generator.register_gesture_cb(gesture_detected, gesture_progress)\n",
      "hands_generator.register_hand_cb(create, update, destroy)"
     ],
     "language": "python",
     "metadata": {},
     "outputs": []
    },
    {
     "cell_type": "heading",
     "level": 4,
     "metadata": {},
     "source": [
      "Some things for this particular demo ..."
     ]
    },
    {
     "cell_type": "code",
     "collapsed": false,
     "input": [
      "hands = {}\n",
      "file_names = ['Images/mano_1.png', 'Images/mano_2.png', 'Images/mano_3.png']"
     ],
     "language": "python",
     "metadata": {},
     "outputs": []
    },
    {
     "cell_type": "code",
     "collapsed": false,
     "input": [
      "class Hand(pygame.sprite.Sprite):\n",
      "    \"\"\"Hand Class for set image, speed and angle \"\"\"\n",
      "    def __init__(self, image):\n",
      "        pygame.sprite.Sprite.__init__(self)\n",
      "        self.img_load(image)\n",
      "        \n",
      "    def img_load(self, filename):\n",
      "        self.image = pygame.image.load(filename)\n",
      "        self.image = pygame.transform.scale(self.image, (60,60))  \n",
      "        self.rect = self.image.get_rect()"
     ],
     "language": "python",
     "metadata": {},
     "outputs": []
    },
    {
     "cell_type": "heading",
     "level": 4,
     "metadata": {},
     "source": [
      "To display the camera ..."
     ]
    },
    {
     "cell_type": "code",
     "collapsed": false,
     "input": [
      "def capture_rgb():\n",
      "    rgb_frame = np.fromstring(image_generator.get_raw_image_map_bgr(),\n",
      "                              dtype=np.uint8).reshape(480, 640, 3)\n",
      "    \n",
      "    im = Image.fromarray(rgb_frame)\n",
      "    b, g, r = im.split()\n",
      "    im = Image.merge(\"RGB\", (r, g, b))\n",
      "    #im.save(\"/tmp/image.png\")\n",
      "    #return np.array(im)\n",
      "    return pygame.image.frombuffer(im.tostring(), im.size, 'RGB')"
     ],
     "language": "python",
     "metadata": {},
     "outputs": []
    },
    {
     "cell_type": "heading",
     "level": 3,
     "metadata": {},
     "source": [
      "The main loop ..."
     ]
    },
    {
     "cell_type": "code",
     "collapsed": true,
     "input": [
      "pygame.init()\n",
      "running = True\n",
      "screen = pygame.display.set_mode((640, 480), pygame.HWSURFACE | pygame.DOUBLEBUF)\n",
      "pygame.display.set_caption('My First Hand Tracking')\n",
      "sprites = pygame.sprite.RenderUpdates()\n",
      "ctx.start_generating_all()\n",
      "\n",
      "while running:\n",
      "    for event in pygame.event.get():\n",
      "        if event.type == KEYDOWN and event.key == K_ESCAPE: running = False\n",
      "    ctx.wait_any_update_all()\n",
      "    \n",
      "    screen.blit(capture_rgb(), (0, 0))\n",
      "    map(lambda i: i.update(), hands.values())\n",
      "    dirty = sprites.draw(screen)\n",
      "    pygame.display.update(dirty)\n",
      "    pygame.display.update()\n",
      "    pygame.display.flip()\n",
      "    \n",
      "pygame.display.quit()\n",
      "pygame.quit()"
     ],
     "language": "python",
     "metadata": {},
     "outputs": []
    },
    {
     "cell_type": "heading",
     "level": 4,
     "metadata": {},
     "source": [
      "Then we stop and close the context"
     ]
    },
    {
     "cell_type": "code",
     "collapsed": false,
     "input": [
      "ctx.stop_generating_all()\n",
      "ctx.shutdown()"
     ],
     "language": "python",
     "metadata": {},
     "outputs": []
    }
   ],
   "metadata": {}
  }
 ]
}