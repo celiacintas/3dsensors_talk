{
 "metadata": {
  "name": ""
 },
 "nbformat": 3,
 "nbformat_minor": 0,
 "worksheets": [
  {
   "cells": [
    {
     "cell_type": "code",
     "collapsed": false,
     "input": [
      "import openni as opi"
     ],
     "language": "python",
     "metadata": {},
     "outputs": [],
     "prompt_number": 3
    },
    {
     "cell_type": "heading",
     "level": 2,
     "metadata": {},
     "source": [
      "Creating Context and Generators"
     ]
    },
    {
     "cell_type": "code",
     "collapsed": false,
     "input": [
      "# Create and Init the the Context\n",
      "ctx = opi.Context()\n",
      "# You can initialize from an oni file if you don't have a 3d sensor with you.\n",
      "ctx.init()"
     ],
     "language": "python",
     "metadata": {},
     "outputs": [],
     "prompt_number": 4
    },
    {
     "cell_type": "heading",
     "level": 4,
     "metadata": {},
     "source": [
      "Depth, IR and Image Generators"
     ]
    },
    {
     "cell_type": "code",
     "collapsed": false,
     "input": [
      "depth_generator = opi.DepthGenerator()\n",
      "depth_generator.create(ctx)\n",
      "depth_generator.set_resolution_preset(opi.RES_VGA)\n",
      "depth_generator.fps = 30"
     ],
     "language": "python",
     "metadata": {},
     "outputs": [],
     "prompt_number": 5
    },
    {
     "cell_type": "code",
     "collapsed": false,
     "input": [
      "image_generator = opi.ImageGenerator()\n",
      "image_generator.create(ctx)\n",
      "image_generator.set_resolution_preset(opi.RES_VGA)"
     ],
     "language": "python",
     "metadata": {},
     "outputs": [],
     "prompt_number": 6
    },
    {
     "cell_type": "code",
     "collapsed": false,
     "input": [
      "ir_generator = opi.IRGenerator()\n",
      "ir_generator.create(ctx)\n",
      "#ir_generator.set_resolution_preset(opi.RES_VGA)\n",
      "len(ir_generator.get_tuple_ir_map())"
     ],
     "language": "python",
     "metadata": {},
     "outputs": [
      {
       "metadata": {},
       "output_type": "pyout",
       "prompt_number": 6,
       "text": [
        "76800"
       ]
      }
     ],
     "prompt_number": 6
    },
    {
     "cell_type": "code",
     "collapsed": false,
     "input": [
      "sound = opi.AudioGenerator()\n",
      "sound.create(ctx)\n",
      "sound"
     ],
     "language": "python",
     "metadata": {},
     "outputs": [
      {
       "output_type": "stream",
       "stream": "stdout",
       "text": [
        "Object `sound.buffer` not found.\n"
       ]
      }
     ],
     "prompt_number": 12
    },
    {
     "cell_type": "heading",
     "level": 4,
     "metadata": {},
     "source": [
      "User, Gesture and Hand generators"
     ]
    },
    {
     "cell_type": "code",
     "collapsed": false,
     "input": [
      "user = opi.UserGenerator()\n",
      "user.create(ctx)"
     ],
     "language": "python",
     "metadata": {},
     "outputs": [],
     "prompt_number": 12
    },
    {
     "cell_type": "code",
     "collapsed": false,
     "input": [
      "hands_generator = opi.HandsGenerator()\n",
      "hands_generator.create(ctx)"
     ],
     "language": "python",
     "metadata": {},
     "outputs": [],
     "prompt_number": 15
    },
    {
     "cell_type": "code",
     "collapsed": false,
     "input": [
      "gesture_generator = opi.GestureGenerator()\n",
      "gesture_generator.create(ctx)\n",
      "gesture_generator.add_gesture('Wave')"
     ],
     "language": "python",
     "metadata": {},
     "outputs": [],
     "prompt_number": 17
    },
    {
     "cell_type": "code",
     "collapsed": false,
     "input": [
      "scene = opi.SceneAnalyzer()\n",
      "scene.create(ctx)\n",
      "\n"
     ],
     "language": "python",
     "metadata": {},
     "outputs": [],
     "prompt_number": 6
    },
    {
     "cell_type": "code",
     "collapsed": false,
     "input": [
      "scene."
     ],
     "language": "python",
     "metadata": {},
     "outputs": [
      {
       "metadata": {},
       "output_type": "pyout",
       "prompt_number": 10,
       "text": [
        "614400"
       ]
      }
     ],
     "prompt_number": 10
    },
    {
     "cell_type": "heading",
     "level": 4,
     "metadata": {},
     "source": [
      "Getting the data from the Generators .."
     ]
    },
    {
     "cell_type": "code",
     "collapsed": false,
     "input": [
      "ctx.start_generating_all()\n"
     ],
     "language": "python",
     "metadata": {},
     "outputs": [],
     "prompt_number": 7
    },
    {
     "cell_type": "code",
     "collapsed": false,
     "input": [
      "ctx.stop_generating_all()"
     ],
     "language": "python",
     "metadata": {},
     "outputs": [],
     "prompt_number": 11
    },
    {
     "cell_type": "heading",
     "level": 2,
     "metadata": {},
     "source": [
      "Setting the skeleton and pose captures"
     ]
    },
    {
     "cell_type": "code",
     "collapsed": false,
     "input": [
      "skel_cap = user.skeleton_cap\n",
      "pose_cap = user.pose_detection_cap\n"
     ],
     "language": "python",
     "metadata": {},
     "outputs": [],
     "prompt_number": 13
    },
    {
     "cell_type": "heading",
     "level": 2,
     "metadata": {},
     "source": [
      "Now .. we need some callbacks ..."
     ]
    },
    {
     "cell_type": "code",
     "collapsed": false,
     "input": [],
     "language": "python",
     "metadata": {},
     "outputs": []
    },
    {
     "cell_type": "code",
     "collapsed": false,
     "input": [
      "def new_user(self, src, id):\n",
      "        print \"User %s detected. Looking for pose...\" %(id)\n",
      "        self.pose_cap.start_detection(POSE2USE, id)\n",
      "\n",
      "def pose_detected(self, src, pose, id):\n",
      "    print \"2/4 Pose {} on user {}. Requesting calibration...\" .format(pose, id)\n",
      "    self.pose_cap.stop_detection(id)\n",
      "    self.skel_cap.request_calibration(id, True)\n",
      "\n",
      "def calibration_start(self, src, id):\n",
      "    print \"3/4 Calibration started for user {}.\" .format(id)\n",
      "\n",
      "def calibration_in_progress(self, src, id, status):\n",
      "    pass\n",
      "\n",
      "def calibration_complete(self, src, id, status):\n",
      "    if status == openni.CALIBRATION_STATUS_OK:\n",
      "        print \"4/4 User {} calibrated successfully! Starting to track.\" .format(id)\n",
      "        self.skel_cap.start_tracking(id)\n",
      "    else:\n",
      "        print \"ERR User {} failed to calibrate. Restarting process.\" .format(id)\n",
      "        self.new_user(self.user, id)\n",
      "\n",
      "def lost_user(self, src, id):\n",
      "    print \"--- User {} lost.\" .format(id)\n"
     ],
     "language": "python",
     "metadata": {},
     "outputs": []
    }
   ],
   "metadata": {}
  }
 ]
}