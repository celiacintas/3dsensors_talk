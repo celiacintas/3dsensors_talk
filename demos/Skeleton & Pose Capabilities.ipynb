{
 "metadata": {
  "name": ""
 },
 "nbformat": 3,
 "nbformat_minor": 0,
 "worksheets": [
  {
   "cells": [
    {
     "cell_type": "code",
     "collapsed": false,
     "input": [
      "import openni as opi\n",
      "import numpy as np\n",
      "import Image\n",
      "#import matplotlib.pyplot as plt\n",
      "import pygame\n",
      "from pygame.locals import KEYDOWN, K_ESCAPE\n",
      "\n",
      "POSE2USE = 'Psi'\n",
      "name_joints = ['SKEL_HEAD', 'SKEL_LEFT_FOOT', 'SKEL_RIGHT_SHOULDER',\n",
      "                       'SKEL_LEFT_HAND', 'SKEL_NECK',\n",
      "                       'SKEL_RIGHT_FOOT', 'SKEL_LEFT_HIP', 'SKEL_RIGHT_HAND',\n",
      "                       'SKEL_TORSO', 'SKEL_LEFT_ELBOW', 'SKEL_LEFT_KNEE',\n",
      "                       'SKEL_RIGHT_HIP', 'SKEL_LEFT_SHOULDER',\n",
      "                       'SKEL_RIGHT_ELBOW', 'SKEL_RIGHT_KNEE']"
     ],
     "language": "python",
     "metadata": {},
     "outputs": []
    },
    {
     "cell_type": "heading",
     "level": 4,
     "metadata": {},
     "source": [
      "Create de Context and Generators"
     ]
    },
    {
     "cell_type": "code",
     "collapsed": false,
     "input": [
      "ctx = opi.Context()\n",
      "ctx.init()"
     ],
     "language": "python",
     "metadata": {},
     "outputs": []
    },
    {
     "cell_type": "code",
     "collapsed": false,
     "input": [
      "depth_generator = opi.DepthGenerator()\n",
      "depth_generator.create(ctx)\n",
      "depth_generator.set_resolution_preset(opi.RES_VGA)\n",
      "depth_generator.fps = 30\n",
      "\n",
      "image_generator = opi.ImageGenerator()\n",
      "image_generator.create(ctx)\n",
      "\n",
      "user = opi.UserGenerator()\n",
      "user.create(ctx)\n"
     ],
     "language": "python",
     "metadata": {},
     "outputs": []
    },
    {
     "cell_type": "heading",
     "level": 4,
     "metadata": {},
     "source": [
      "Get the skeleton and pose capabilites from the user generator"
     ]
    },
    {
     "cell_type": "code",
     "collapsed": false,
     "input": [
      "skel_cap = user.skeleton_cap\n",
      "pose_cap = user.pose_detection_cap"
     ],
     "language": "python",
     "metadata": {},
     "outputs": []
    },
    {
     "cell_type": "heading",
     "level": 4,
     "metadata": {},
     "source": [
      "Create and register some callbacks"
     ]
    },
    {
     "cell_type": "code",
     "collapsed": false,
     "input": [
      "def new_user(src, id):\n",
      "    print \"Hi User %s. Make the secret pose ...\" %(id)\n",
      "    pose_cap.start_detection(POSE2USE, id)\n",
      "\n",
      "def lost_user(src, id):\n",
      "    print \"Bye Bye User %s\" %(id)\n",
      "\n",
      "def pose_detected(src, pose, id):\n",
      "    print \"The User %s is doing the secret pose %s, now do the calibration\" %(id, pose)\n",
      "    pose_cap.stop_detection(id)\n",
      "    skel_cap.request_calibration(id, True)\n",
      "\n",
      "def calibration_complete(src, id, status):\n",
      "    if status == opi.CALIBRATION_STATUS_OK:\n",
      "        print \"Congrats User %s! You're Calibrated\" %(id)\n",
      "        skel_cap.start_tracking(id)\n",
      "    else:\n",
      "        print \"Something went wrong User %s :(\" %(id)\n",
      "        new_user(user, id)"
     ],
     "language": "python",
     "metadata": {},
     "outputs": []
    },
    {
     "cell_type": "code",
     "collapsed": false,
     "input": [
      "user.register_user_cb(new_user, lost_user)\n",
      "pose_cap.register_pose_detected_cb(pose_detected)\n",
      "skel_cap.register_c_complete_cb(calibration_complete)\n",
      "skel_cap.set_profile(opi.SKEL_PROFILE_ALL)"
     ],
     "language": "python",
     "metadata": {},
     "outputs": []
    },
    {
     "cell_type": "heading",
     "level": 4,
     "metadata": {},
     "source": [
      "Now, lets get the x,y position of our joints ..."
     ]
    },
    {
     "cell_type": "code",
     "collapsed": false,
     "input": [
      "def get_joints():\n",
      "    for id in user.users:\n",
      "        if skel_cap.is_tracking(id) and skel_cap.is_calibrated(id):\n",
      "            joints = [skel_cap.get_joint_position(id, j)\n",
      "                  for j in map(lambda a: getattr(opi, a), name_joints)]\n",
      "\n",
      "            return depth_generator.to_projective([j.point for j in joints])"
     ],
     "language": "python",
     "metadata": {},
     "outputs": []
    },
    {
     "cell_type": "heading",
     "level": 4,
     "metadata": {},
     "source": [
      "And a camera to see the output"
     ]
    },
    {
     "cell_type": "code",
     "collapsed": false,
     "input": [
      "def capture_rgb():\n",
      "    rgb_frame = np.fromstring(image_generator.get_raw_image_map_bgr(),\n",
      "                              dtype=np.uint8).reshape(480, 640, 3)\n",
      "    \n",
      "    im = Image.fromarray(rgb_frame)\n",
      "    b, g, r = im.split()\n",
      "    im = Image.merge(\"RGB\", (r, g, b))\n",
      "    return pygame.image.frombuffer(im.tostring(), im.size, 'RGB')"
     ],
     "language": "python",
     "metadata": {},
     "outputs": []
    },
    {
     "cell_type": "heading",
     "level": 4,
     "metadata": {},
     "source": [
      "Run sensor run"
     ]
    },
    {
     "cell_type": "code",
     "collapsed": false,
     "input": [
      "ctx.start_generating_all()"
     ],
     "language": "python",
     "metadata": {},
     "outputs": []
    },
    {
     "cell_type": "code",
     "collapsed": false,
     "input": [
      "pygame.init()\n",
      "running = True\n",
      "screen = pygame.display.set_mode((640, 480), pygame.HWSURFACE | pygame.DOUBLEBUF)\n",
      "pygame.display.set_caption('My First Joint View')\n",
      "\n",
      "while running:\n",
      "    for event in pygame.event.get():\n",
      "        if event.type == KEYDOWN and event.key == K_ESCAPE: running = False\n",
      "    ctx.wait_any_update_all()\n",
      "    screen.blit(capture_rgb(), (0, 0))\n",
      "    newpos_skeleton = get_joints()\n",
      "    if newpos_skeleton:\n",
      "        map(lambda pos: pygame.draw.circle(screen, (255, 50, 0),\n",
      "           (int(pos[0]), int(pos[1])), 10, 10), newpos_skeleton)\n",
      "    pygame.display.update()\n",
      "    pygame.display.flip()\n",
      "    \n",
      "pygame.display.quit()\n",
      "pygame.quit()"
     ],
     "language": "python",
     "metadata": {},
     "outputs": []
    },
    {
     "cell_type": "code",
     "collapsed": false,
     "input": [
      "ctx.stop_generating_all()\n",
      "ctx.shutdown()"
     ],
     "language": "python",
     "metadata": {},
     "outputs": []
    }
   ],
   "metadata": {}
  }
 ]
}